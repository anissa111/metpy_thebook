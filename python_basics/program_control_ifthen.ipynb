{
 "cells": [
  {
   "cell_type": "markdown",
   "metadata": {},
   "source": [
    "# If-Then Statements\n",
    "\n",
    "If statements are used for when you want your code to be able to make a choice based on some condition. This will allow your code to be more flexible to create a wider variety of outcomes from running that same code.\n",
    "\n",
    "The manner in which these statements work is by testing a truth value of a statment. If the statement is true, then the code within the if statement will be executed."
   ]
  },
  {
   "cell_type": "code",
   "execution_count": null,
   "metadata": {},
   "outputs": [],
   "source": [
    "from datetime import datetime, timedelta"
   ]
  },
  {
   "cell_type": "code",
   "execution_count": null,
   "metadata": {},
   "outputs": [],
   "source": [
    "# Examine truthiness of statement\n",
    "print(5 < 10)"
   ]
  },
  {
   "cell_type": "code",
   "execution_count": null,
   "metadata": {},
   "outputs": [],
   "source": [
    "# If-Then Statement Example 1\n",
    "\n",
    "current_date = datetime.utcnow()\n",
    "print(f'Original Time: {current_date}')\n",
    "\n",
    "minute = current_date.minute\n",
    "\n",
    "if minute < 15:\n",
    "    current_date -= timedelta(hours=1)\n",
    "print(f'Time after If-Statement: {current_date}')"
   ]
  },
  {
   "cell_type": "code",
   "execution_count": null,
   "metadata": {},
   "outputs": [],
   "source": [
    "# if-elif-else statement\n",
    "\n",
    "grade = 75\n",
    "\n",
    "if grade >= 85:\n",
    "    print('You got a great score')\n",
    "elif grade >=70:\n",
    "    print('You got a good score')\n",
    "else:\n",
    "    print(\"Let's work together to improve your score on a future assignment.\")"
   ]
  },
  {
   "cell_type": "code",
   "execution_count": null,
   "metadata": {},
   "outputs": [],
   "source": []
  }
 ],
 "metadata": {
  "kernelspec": {
   "display_name": "Python 3 (ipykernel)",
   "language": "python",
   "name": "python3"
  },
  "language_info": {
   "codemirror_mode": {
    "name": "ipython",
    "version": 3
   },
   "file_extension": ".py",
   "mimetype": "text/x-python",
   "name": "python",
   "nbconvert_exporter": "python",
   "pygments_lexer": "ipython3",
   "version": "3.10.5"
  }
 },
 "nbformat": 4,
 "nbformat_minor": 4
}
